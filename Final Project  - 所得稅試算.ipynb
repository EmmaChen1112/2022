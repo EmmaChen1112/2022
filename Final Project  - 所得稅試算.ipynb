{
 "cells": [
  {
   "cell_type": "markdown",
   "metadata": {},
   "source": [
    "#  個人綜合所得稅計算系統\n",
    "歡迎來到綜合所得稅計算系統，下列是簡易試算您的所得稅的方法。\n",
    "本方法為財政部111年新制度下規定。"
   ]
  },
  {
   "cell_type": "code",
   "execution_count": 18,
   "metadata": {},
   "outputs": [
    {
     "name": "stdout",
     "output_type": "stream",
     "text": [
      "請輸入年薪資所得 : 1000000\n",
      "請輸入利息收入 : 0\n",
      "請輸入股票獲利所得 : 0\n",
      "請輸入上述以外其他收入總合： 0\n"
     ]
    }
   ],
   "source": [
    "salary = int(input(\"請輸入年薪資所得 : \"))\n",
    "interest = int(input(\"請輸入利息收入 : \"))\n",
    "stock = int(input(\"請輸入股票獲利所得 : \"))\n",
    "other_income = int(input(\"請輸入上述以外其他收入總合： \"))"
   ]
  },
  {
   "cell_type": "code",
   "execution_count": null,
   "metadata": {},
   "outputs": [],
   "source": [
    "#綜合所得總額計算(含防呆設計)\n",
    "marry = 3\n",
    "while marry != 1 or marry != 0:\n",
    "    marry = int(input(\"請輸入是否已婚，已婚輸入1，未婚輸入0:\\n\"))\n",
    "    if marry == 1 :\n",
    "        print(\"已婚者須計入配偶之薪資所得。\")\n",
    "        salary_spouse = int(input(\"請輸入配偶薪資： \"))\n",
    "        綜合所得總額 = salary + interest + stock + other_income + salary_spouse\n",
    "        print(f\"您的綜合所得總額為{綜合所得總額}元。\")\n",
    "        break\n",
    "    elif marry == 0:\n",
    "        print(\"未婚者無須計入配偶之薪資所得。\")\n",
    "        salary_spouse = 0\n",
    "        綜合所得總額 = salary + interest + stock + other_income + salary_spouse\n",
    "        print(f\"您的綜合所得總額為 {綜合所得總額} 元。\")\n",
    "        break\n",
    "    else:\n",
    "        print(\"ERROR!\\n系統提示：\\n請重新輸入，已婚者輸入1，單身者輸入0，謝謝。\")"
   ]
  },
  {
   "cell_type": "code",
   "execution_count": 7,
   "metadata": {},
   "outputs": [
    {
     "name": "stdout",
     "output_type": "stream",
     "text": [
      "年薪資所得達207000者，可享有207000扣除額。\n",
      "您的薪資特別扣除額為 207000 元。\n",
      "\n"
     ]
    }
   ],
   "source": [
    "#薪資特別扣除額(判斷自己的薪資與伴侶薪資是否達二十萬七千元)\n",
    "if salary <= 207000:\n",
    "    print(\"年薪資所得未達207000者，可享有薪資全數扣除額。\")\n",
    "    薪資特別扣除額 = salary\n",
    "    if marry == 1 and salary_spouse <= 207000:\n",
    "        薪資特別扣除額 = 薪資特別扣除額 + salary_spouse\n",
    "    elif marry == 1 and salary_spouse > 207000:\n",
    "        薪資特別扣除額 = 薪資特別扣除額 + 207000\n",
    "else:\n",
    "    print(\"年薪資所得達207000者，可享有207000扣除額。\")\n",
    "    薪資特別扣除額 = 207000\n",
    "    if marry == 1 and salary_spouse <= 207000:\n",
    "        薪資特別扣除額 = 薪資特別扣除額 + salary_spouse\n",
    "    elif marry == 1 and salary_spouse > 207000:\n",
    "        薪資特別扣除額 = 薪資特別扣除額 + 207000\n",
    "print(f\"您的薪資特別扣除額為 {薪資特別扣除額} 元。\")"
   ]
  },
  {
   "cell_type": "code",
   "execution_count": 8,
   "metadata": {},
   "outputs": [
    {
     "name": "stdout",
     "output_type": "stream",
     "text": [
      "請輸入身心障礙者人數：0\n",
      "請輸入教育學費(大專)人數：2\n",
      "請輸入幼兒人數(五歲以下)：0\n",
      "您的特別扣除額為 50000 元。\n",
      "\n"
     ]
    }
   ],
   "source": [
    "#特別扣除類\n",
    "身心障礙扣除額 = 20700 * int(input(\"請輸入身心障礙者人數：\" )) \n",
    "教育學費特別扣除額 = 25000 * int(input(\"請輸入教育學費(大專)人數：\" )) \n",
    "幼兒學前特別扣除額 = 120000 * int(input(\"請輸入幼兒人數(五歲以下)：\" ))\n",
    "特別扣除類 = 身心障礙扣除額 + 教育學費特別扣除額 + 幼兒學前特別扣除額\n",
    "print(f\"您的特別扣除額為 {特別扣除類} 元。\")"
   ]
  },
  {
   "cell_type": "code",
   "execution_count": 10,
   "metadata": {},
   "outputs": [
    {
     "name": "stdout",
     "output_type": "stream",
     "text": [
      "請輸入您撫養之5歲以上70歲以下人數(含自己與配偶)：4\n",
      "請輸入您撫養之70歲以上人數(含自己與配偶)：0\n",
      "您的免稅額為 368000 元。\n",
      "\n"
     ]
    }
   ],
   "source": [
    "#免稅額(含自己與配偶)\n",
    "num1 = int(input(\"請輸入您撫養之5歲以上70歲以下人數(含自己與配偶)：\"))\n",
    "num2 = int(input(\"請輸入您撫養之70歲以上人數(含自己與配偶)：\"))\n",
    "免稅額 = 92000 * num1 + 138000 * num2\n",
    "print(f\"您的免稅額為 {免稅額} 元。\")"
   ]
  },
  {
   "cell_type": "code",
   "execution_count": 11,
   "metadata": {},
   "outputs": [
    {
     "name": "stdout",
     "output_type": "stream",
     "text": [
      "您的標準扣除額為 24800 元。\n",
      "\n"
     ]
    }
   ],
   "source": [
    "#標準扣除項 (夫妻共同申報)\n",
    "if marry == 1:\n",
    "    標準扣除額 = 12400*2 \n",
    "elif marry == 0:\n",
    "    標準扣除額 = 12400\n",
    "print(f\"您的標準扣除額為 {標準扣除額} 元。\")"
   ]
  },
  {
   "cell_type": "code",
   "execution_count": 12,
   "metadata": {},
   "outputs": [
    {
     "name": "stdout",
     "output_type": "stream",
     "text": [
      "請輸入人身保險費： 0\n",
      "請輸入全民健保費： 0\n",
      "請輸入醫藥費： 0\n",
      "請輸入災害損失： 0\n",
      "請輸入自用住宅購屋借款利息： 0\n",
      "請輸入房租支出： 0\n",
      "請輸入捐贈額度： 0\n",
      "您的列舉扣除額為 0 元。\n",
      "\n"
     ]
    }
   ],
   "source": [
    "#列舉扣除額\n",
    "人身保險費 = int(input(\"請輸入人身保險費： \"))\n",
    "全民健保費 = int(input(\"請輸入全民健保費： \"))\n",
    "醫藥費 = int(input(\"請輸入醫藥費： \"))\n",
    "災害損失 = int(input(\"請輸入災害損失： \"))\n",
    "自用住宅購屋借款利息 = int(input(\"請輸入自用住宅購屋借款利息： \"))\n",
    "房租支出 = int(input(\"請輸入房租支出： \"))\n",
    "捐贈 = int(input(\"請輸入捐贈額度： \"))\n",
    "列舉扣除額 = 人身保險費 + 全民健保費 + 醫藥費 + 災害損失 + 自用住宅購屋借款利息 + 房租支出 +捐贈\n",
    "print(f\"您的列舉扣除額為 {列舉扣除額} 元。\")"
   ]
  },
  {
   "cell_type": "code",
   "execution_count": 13,
   "metadata": {},
   "outputs": [
    {
     "name": "stdout",
     "output_type": "stream",
     "text": [
      "您的一般扣除項為 24800 元。\n"
     ]
    }
   ],
   "source": [
    "#一般扣除類為標準扣除類或列舉扣除類擇一\n",
    "if 標準扣除額 > 列舉扣除額:\n",
    "    一般扣除項 = 標準扣除額 \n",
    "else:\n",
    "    一般扣除項 = 列舉扣除額\n",
    "print(f\"您的一般扣除項為 {一般扣除項} 元。\")"
   ]
  },
  {
   "cell_type": "code",
   "execution_count": 14,
   "metadata": {},
   "outputs": [
    {
     "name": "stdout",
     "output_type": "stream",
     "text": [
      "\n",
      "基本生活費差額為 341200 元。\n",
      "\n"
     ]
    }
   ],
   "source": [
    "#基本生活費差額\n",
    "基本生活費差額 = 196000 * (num1 + num2) - 特別扣除類 - 免稅額 - 一般扣除項\n",
    "print(f\"基本生活費差額為 {基本生活費差額} 元。\")"
   ]
  },
  {
   "cell_type": "code",
   "execution_count": 15,
   "metadata": {},
   "outputs": [
    {
     "name": "stdout",
     "output_type": "stream",
     "text": [
      "綜合所得淨額為 9000 元。\n"
     ]
    }
   ],
   "source": [
    "#綜合所得淨額\n",
    "綜合所得淨額 = 綜合所得總額 - 薪資特別扣除額 - 特別扣除類 - 免稅額 - 一般扣除項 - 基本生活費差額\n",
    "if 綜合所得淨額 <= 0:\n",
    "    綜合所得淨額 = 0 \n",
    "print(f\"綜合所得淨額為 {綜合所得淨額} 元。\") "
   ]
  },
  {
   "cell_type": "markdown",
   "metadata": {},
   "source": [
    "# 應納稅額計算\n",
    "所得淨額 * 適用稅率 - 累進差額 = 應納稅額"
   ]
  },
  {
   "cell_type": "code",
   "execution_count": 16,
   "metadata": {},
   "outputs": [
    {
     "name": "stdout",
     "output_type": "stream",
     "text": [
      "您的稅率依稅率對照表為 0.05 。\n",
      "您的累進差額依稅率對照表為 0 元。\n",
      "您的應納稅額為 450 元。\n"
     ]
    }
   ],
   "source": [
    "#應繳納稅額計算\n",
    "#所得淨額 * 適用稅率 - 累進差額 = 應納稅額\n",
    "\n",
    "稅率對照表 = [\n",
    "    [0, 0.05, 0],\n",
    "    [560000, 0.12, 39200],\n",
    "    [1260000, 0.20, 140000],\n",
    "    [2520000, 0.30, 392000],\n",
    "    [4720000, 0.40, 864000]\n",
    "]\n",
    "for net_income in range (len(稅率對照表)):\n",
    "    if 綜合所得淨額 >= 稅率對照表[net_income][0]:\n",
    "        稅率 = 稅率對照表[net_income][1]\n",
    "        累進差額 = 稅率對照表[net_income][2]\n",
    "        \n",
    "print(f\"您的稅率依稅率對照表為 {稅率} 。\")\n",
    "print(f\"您的累進差額依稅率對照表為 {累進差額} 元。\")\n",
    "\n",
    "應納稅額 = int(綜合所得淨額 * 稅率 - 累進差額)\n",
    "print(f\"您的應納稅額為 {應納稅額} 元。\")"
   ]
  },
  {
   "cell_type": "markdown",
   "metadata": {},
   "source": [
    "# 扣繳稅額及可扣抵稅額\n",
    "應繳納稅額或應退稅額 = 應納稅額 - 扣繳稅額及可扣抵稅額"
   ]
  },
  {
   "cell_type": "code",
   "execution_count": 17,
   "metadata": {},
   "outputs": [
    {
     "name": "stdout",
     "output_type": "stream",
     "text": [
      "請輸入已扣抵稅額：　0\n",
      "請輸入重購自用住宅扣抵稅額：　0\n",
      "請輸入大陸地區已繳所得稅可扣抵稅額：　0\n",
      "您的應繳納稅額或應退稅額為 450 元。\n"
     ]
    }
   ],
   "source": [
    "#扣繳稅額及可扣抵稅額\n",
    "已扣抵稅額 = int(input(\"請輸入已扣抵稅額：　\"))\n",
    "重購自用住宅扣抵稅額 = int(input(\"請輸入重購自用住宅扣抵稅額：　\"))\n",
    "大陸地區已繳所得稅可扣抵稅額 = int(input(\"請輸入大陸地區已繳所得稅可扣抵稅額：　\"))\n",
    "扣繳稅額及可扣抵稅額 = 已扣抵稅額 + 重購自用住宅扣抵稅額 + 大陸地區已繳所得稅可扣抵稅額\n",
    "\n",
    "應繳納稅額或應退稅額 = 應納稅額 - 扣繳稅額及可扣抵稅額\n",
    "if 應繳納稅額或應退稅額 <= 0:\n",
    "    應繳納稅額或應退稅額 = 0\n",
    "print(f\"您的應繳納稅額或應退稅額為 {應繳納稅額或應退稅額} 元。\")"
   ]
  },
  {
   "cell_type": "code",
   "execution_count": null,
   "metadata": {},
   "outputs": [],
   "source": []
  }
 ],
 "metadata": {
  "kernelspec": {
   "display_name": "Python 3",
   "language": "python",
   "name": "python3"
  },
  "language_info": {
   "codemirror_mode": {
    "name": "ipython",
    "version": 3
   },
   "file_extension": ".py",
   "mimetype": "text/x-python",
   "name": "python",
   "nbconvert_exporter": "python",
   "pygments_lexer": "ipython3",
   "version": "3.8.5"
  }
 },
 "nbformat": 4,
 "nbformat_minor": 4
}
